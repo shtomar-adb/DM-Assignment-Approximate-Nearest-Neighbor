{
  "nbformat": 4,
  "nbformat_minor": 0,
  "metadata": {
    "colab": {
      "name": "Assignment-Approximate-Nearest-Neighbor-Data-Mining.ipynb",
      "provenance": [],
      "collapsed_sections": [],
      "authorship_tag": "ABX9TyNKYIKyj6afalG7+WCZUpIf",
      "include_colab_link": true
    },
    "kernelspec": {
      "name": "python3",
      "display_name": "Python 3"
    },
    "language_info": {
      "name": "python"
    }
  },
  "cells": [
    {
      "cell_type": "markdown",
      "metadata": {
        "id": "view-in-github",
        "colab_type": "text"
      },
      "source": [
        "<a href=\"https://colab.research.google.com/github/shtomar-adb/DM-Assignment-Approximate-Nearest-Neighbor/blob/main/Assignment_Approximate_Nearest_Neighbor_Data_Mining.ipynb\" target=\"_parent\"><img src=\"https://colab.research.google.com/assets/colab-badge.svg\" alt=\"Open In Colab\"/></a>"
      ]
    },
    {
      "cell_type": "markdown",
      "metadata": {
        "id": "HrGKIrf0pIYE"
      },
      "source": [
        "## Assignment 3: Use state of art libraries for Approximate nearest neighbor search for your favorite data set"
      ]
    },
    {
      "cell_type": "markdown",
      "metadata": {
        "id": "uh0Aaagm2Gbv"
      },
      "source": [
        "State of Art Library used fo ANN algorithms implementation: [FAISS](https://github.com/facebookresearch/faiss)"
      ]
    },
    {
      "cell_type": "code",
      "metadata": {
        "colab": {
          "base_uri": "https://localhost:8080/"
        },
        "id": "7weWGHDvuw4f",
        "outputId": "5c64c71a-e724-4ed9-cc89-c4faf981468a"
      },
      "source": [
        "!apt install libomp-dev\n",
        "!pip install faiss\n",
        "import faiss"
      ],
      "execution_count": 1,
      "outputs": [
        {
          "output_type": "stream",
          "name": "stdout",
          "text": [
            "Reading package lists... Done\n",
            "Building dependency tree       \n",
            "Reading state information... Done\n",
            "The following additional packages will be installed:\n",
            "  libomp5\n",
            "Suggested packages:\n",
            "  libomp-doc\n",
            "The following NEW packages will be installed:\n",
            "  libomp-dev libomp5\n",
            "0 upgraded, 2 newly installed, 0 to remove and 37 not upgraded.\n",
            "Need to get 239 kB of archives.\n",
            "After this operation, 804 kB of additional disk space will be used.\n",
            "Get:1 http://archive.ubuntu.com/ubuntu bionic/universe amd64 libomp5 amd64 5.0.1-1 [234 kB]\n",
            "Get:2 http://archive.ubuntu.com/ubuntu bionic/universe amd64 libomp-dev amd64 5.0.1-1 [5,088 B]\n",
            "Fetched 239 kB in 1s (216 kB/s)\n",
            "Selecting previously unselected package libomp5:amd64.\n",
            "(Reading database ... 155222 files and directories currently installed.)\n",
            "Preparing to unpack .../libomp5_5.0.1-1_amd64.deb ...\n",
            "Unpacking libomp5:amd64 (5.0.1-1) ...\n",
            "Selecting previously unselected package libomp-dev.\n",
            "Preparing to unpack .../libomp-dev_5.0.1-1_amd64.deb ...\n",
            "Unpacking libomp-dev (5.0.1-1) ...\n",
            "Setting up libomp5:amd64 (5.0.1-1) ...\n",
            "Setting up libomp-dev (5.0.1-1) ...\n",
            "Processing triggers for libc-bin (2.27-3ubuntu1.3) ...\n",
            "/sbin/ldconfig.real: /usr/local/lib/python3.7/dist-packages/ideep4py/lib/libmkldnn.so.0 is not a symbolic link\n",
            "\n",
            "Collecting faiss\n",
            "  Downloading faiss-1.5.3-cp37-cp37m-manylinux1_x86_64.whl (4.7 MB)\n",
            "\u001b[K     |████████████████████████████████| 4.7 MB 8.6 MB/s \n",
            "\u001b[?25hRequirement already satisfied: numpy in /usr/local/lib/python3.7/dist-packages (from faiss) (1.19.5)\n",
            "Installing collected packages: faiss\n",
            "Successfully installed faiss-1.5.3\n"
          ]
        }
      ]
    },
    {
      "cell_type": "code",
      "metadata": {
        "colab": {
          "base_uri": "https://localhost:8080/"
        },
        "id": "XDfMCMT_xIdm",
        "outputId": "efff0198-d193-4c82-f0ef-6a0f66d52c16"
      },
      "source": [
        "!pip install lightfm\n"
      ],
      "execution_count": 2,
      "outputs": [
        {
          "output_type": "stream",
          "name": "stdout",
          "text": [
            "Collecting lightfm\n",
            "  Downloading lightfm-1.16.tar.gz (310 kB)\n",
            "\u001b[?25l\r\u001b[K     |█                               | 10 kB 17.9 MB/s eta 0:00:01\r\u001b[K     |██▏                             | 20 kB 23.6 MB/s eta 0:00:01\r\u001b[K     |███▏                            | 30 kB 19.2 MB/s eta 0:00:01\r\u001b[K     |████▎                           | 40 kB 15.9 MB/s eta 0:00:01\r\u001b[K     |█████▎                          | 51 kB 6.8 MB/s eta 0:00:01\r\u001b[K     |██████▍                         | 61 kB 7.1 MB/s eta 0:00:01\r\u001b[K     |███████▍                        | 71 kB 7.5 MB/s eta 0:00:01\r\u001b[K     |████████▌                       | 81 kB 8.4 MB/s eta 0:00:01\r\u001b[K     |█████████▌                      | 92 kB 8.8 MB/s eta 0:00:01\r\u001b[K     |██████████▋                     | 102 kB 6.6 MB/s eta 0:00:01\r\u001b[K     |███████████▋                    | 112 kB 6.6 MB/s eta 0:00:01\r\u001b[K     |████████████▊                   | 122 kB 6.6 MB/s eta 0:00:01\r\u001b[K     |█████████████▊                  | 133 kB 6.6 MB/s eta 0:00:01\r\u001b[K     |██████████████▉                 | 143 kB 6.6 MB/s eta 0:00:01\r\u001b[K     |███████████████▉                | 153 kB 6.6 MB/s eta 0:00:01\r\u001b[K     |█████████████████               | 163 kB 6.6 MB/s eta 0:00:01\r\u001b[K     |██████████████████              | 174 kB 6.6 MB/s eta 0:00:01\r\u001b[K     |███████████████████             | 184 kB 6.6 MB/s eta 0:00:01\r\u001b[K     |████████████████████            | 194 kB 6.6 MB/s eta 0:00:01\r\u001b[K     |█████████████████████▏          | 204 kB 6.6 MB/s eta 0:00:01\r\u001b[K     |██████████████████████▏         | 215 kB 6.6 MB/s eta 0:00:01\r\u001b[K     |███████████████████████▎        | 225 kB 6.6 MB/s eta 0:00:01\r\u001b[K     |████████████████████████▎       | 235 kB 6.6 MB/s eta 0:00:01\r\u001b[K     |█████████████████████████▍      | 245 kB 6.6 MB/s eta 0:00:01\r\u001b[K     |██████████████████████████▍     | 256 kB 6.6 MB/s eta 0:00:01\r\u001b[K     |███████████████████████████▌    | 266 kB 6.6 MB/s eta 0:00:01\r\u001b[K     |████████████████████████████▌   | 276 kB 6.6 MB/s eta 0:00:01\r\u001b[K     |█████████████████████████████▋  | 286 kB 6.6 MB/s eta 0:00:01\r\u001b[K     |██████████████████████████████▋ | 296 kB 6.6 MB/s eta 0:00:01\r\u001b[K     |███████████████████████████████▊| 307 kB 6.6 MB/s eta 0:00:01\r\u001b[K     |████████████████████████████████| 310 kB 6.6 MB/s \n",
            "\u001b[?25hRequirement already satisfied: numpy in /usr/local/lib/python3.7/dist-packages (from lightfm) (1.19.5)\n",
            "Requirement already satisfied: scipy>=0.17.0 in /usr/local/lib/python3.7/dist-packages (from lightfm) (1.4.1)\n",
            "Requirement already satisfied: requests in /usr/local/lib/python3.7/dist-packages (from lightfm) (2.23.0)\n",
            "Requirement already satisfied: scikit-learn in /usr/local/lib/python3.7/dist-packages (from lightfm) (1.0.1)\n",
            "Requirement already satisfied: certifi>=2017.4.17 in /usr/local/lib/python3.7/dist-packages (from requests->lightfm) (2021.10.8)\n",
            "Requirement already satisfied: chardet<4,>=3.0.2 in /usr/local/lib/python3.7/dist-packages (from requests->lightfm) (3.0.4)\n",
            "Requirement already satisfied: idna<3,>=2.5 in /usr/local/lib/python3.7/dist-packages (from requests->lightfm) (2.10)\n",
            "Requirement already satisfied: urllib3!=1.25.0,!=1.25.1,<1.26,>=1.21.1 in /usr/local/lib/python3.7/dist-packages (from requests->lightfm) (1.24.3)\n",
            "Requirement already satisfied: threadpoolctl>=2.0.0 in /usr/local/lib/python3.7/dist-packages (from scikit-learn->lightfm) (3.0.0)\n",
            "Requirement already satisfied: joblib>=0.11 in /usr/local/lib/python3.7/dist-packages (from scikit-learn->lightfm) (1.1.0)\n",
            "Building wheels for collected packages: lightfm\n",
            "  Building wheel for lightfm (setup.py) ... \u001b[?25l\u001b[?25hdone\n",
            "  Created wheel for lightfm: filename=lightfm-1.16-cp37-cp37m-linux_x86_64.whl size=705353 sha256=76f93ac9df2e8a6c574270992e827fc22d6353995ad5265726112594bd99e97a\n",
            "  Stored in directory: /root/.cache/pip/wheels/f8/56/28/5772a3bd3413d65f03aa452190b00898b680b10028a1021914\n",
            "Successfully built lightfm\n",
            "Installing collected packages: lightfm\n",
            "Successfully installed lightfm-1.16\n"
          ]
        }
      ]
    },
    {
      "cell_type": "code",
      "metadata": {
        "id": "7QzJPcTsxR4G"
      },
      "source": [
        "import pandas as pd\n",
        "from lightfm import LightFM\n",
        "from lightfm.datasets import fetch_movielens"
      ],
      "execution_count": 3,
      "outputs": []
    },
    {
      "cell_type": "markdown",
      "metadata": {
        "id": "KaewSN5x2eVz"
      },
      "source": [
        "__Dataset Used__: The dataset used is Movie Lens from Light FM"
      ]
    },
    {
      "cell_type": "code",
      "metadata": {
        "colab": {
          "base_uri": "https://localhost:8080/",
          "height": 111
        },
        "id": "V8gYJvoCw8Tr",
        "outputId": "79a475b7-0cd7-42c3-e11d-6c03e99305f2"
      },
      "source": [
        "movie_lens = fetch_movielens()\n",
        "df = pd.DataFrame(movie_lens)\n",
        "df.head(2)"
      ],
      "execution_count": 4,
      "outputs": [
        {
          "output_type": "execute_result",
          "data": {
            "text/html": [
              "<div>\n",
              "<style scoped>\n",
              "    .dataframe tbody tr th:only-of-type {\n",
              "        vertical-align: middle;\n",
              "    }\n",
              "\n",
              "    .dataframe tbody tr th {\n",
              "        vertical-align: top;\n",
              "    }\n",
              "\n",
              "    .dataframe thead th {\n",
              "        text-align: right;\n",
              "    }\n",
              "</style>\n",
              "<table border=\"1\" class=\"dataframe\">\n",
              "  <thead>\n",
              "    <tr style=\"text-align: right;\">\n",
              "      <th></th>\n",
              "      <th>train</th>\n",
              "      <th>test</th>\n",
              "      <th>item_features</th>\n",
              "      <th>item_feature_labels</th>\n",
              "      <th>item_labels</th>\n",
              "    </tr>\n",
              "  </thead>\n",
              "  <tbody>\n",
              "    <tr>\n",
              "      <th>0</th>\n",
              "      <td>(0, 0)\\t5\\n  (0, 1)\\t3\\n  (0, 2)\\t4\\n  (0, 3...</td>\n",
              "      <td>(0, 19)\\t4\\n  (0, 32)\\t4\\n  (0, 60)\\t4\\n  (0...</td>\n",
              "      <td>(0, 0)\\t1.0\\n  (1, 1)\\t1.0\\n  (2, 2)\\t1.0\\n ...</td>\n",
              "      <td>Toy Story (1995)</td>\n",
              "      <td>Toy Story (1995)</td>\n",
              "    </tr>\n",
              "    <tr>\n",
              "      <th>1</th>\n",
              "      <td>(0, 0)\\t5\\n  (0, 1)\\t3\\n  (0, 2)\\t4\\n  (0, 3...</td>\n",
              "      <td>(0, 19)\\t4\\n  (0, 32)\\t4\\n  (0, 60)\\t4\\n  (0...</td>\n",
              "      <td>(0, 0)\\t1.0\\n  (1, 1)\\t1.0\\n  (2, 2)\\t1.0\\n ...</td>\n",
              "      <td>GoldenEye (1995)</td>\n",
              "      <td>GoldenEye (1995)</td>\n",
              "    </tr>\n",
              "  </tbody>\n",
              "</table>\n",
              "</div>"
            ],
            "text/plain": [
              "                                               train  ...       item_labels\n",
              "0    (0, 0)\\t5\\n  (0, 1)\\t3\\n  (0, 2)\\t4\\n  (0, 3...  ...  Toy Story (1995)\n",
              "1    (0, 0)\\t5\\n  (0, 1)\\t3\\n  (0, 2)\\t4\\n  (0, 3...  ...  GoldenEye (1995)\n",
              "\n",
              "[2 rows x 5 columns]"
            ]
          },
          "metadata": {},
          "execution_count": 4
        }
      ]
    },
    {
      "cell_type": "markdown",
      "metadata": {
        "id": "0VprJkxQ2wvE"
      },
      "source": [
        "Data Preparation for Nearest Neigbor Algorithms"
      ]
    },
    {
      "cell_type": "code",
      "metadata": {
        "id": "gFVPOrI12wWt"
      },
      "source": [
        "train = movie_lens['train']\n",
        "test = movie_lens['test']\n",
        "\n",
        "model = LightFM(learning_rate=0.05, loss=\"warp\", no_components=64, item_alpha=0.001)\n",
        "model.fit_partial(train, item_features=movie_lens['item_features'], epochs=20)\n",
        "\n",
        "item_vectors = movie_lens['item_features'] * model.item_embeddings"
      ],
      "execution_count": 5,
      "outputs": []
    },
    {
      "cell_type": "code",
      "metadata": {
        "id": "dJRNrJIY4MYj"
      },
      "source": [
        "movie_names = movie_lens['item_labels']"
      ],
      "execution_count": 6,
      "outputs": []
    },
    {
      "cell_type": "markdown",
      "metadata": {
        "id": "4VCZfdKJt37-"
      },
      "source": [
        "## Section 1: LSH"
      ]
    },
    {
      "cell_type": "code",
      "metadata": {
        "id": "5v2C-A4cDJ7G"
      },
      "source": [
        "item_vectors_lsh = item_vectors.copy()\n",
        "movie_names_lsh = movie_names.copy()"
      ],
      "execution_count": 7,
      "outputs": []
    },
    {
      "cell_type": "code",
      "metadata": {
        "colab": {
          "base_uri": "https://localhost:8080/"
        },
        "id": "8lI7QmTMo99s",
        "outputId": "3f89a5d0-0a26-4051-a87e-0465cd5e0f92"
      },
      "source": [
        "dimention = item_vectors_lsh.shape[1]\n",
        "vectors = item_vectors_lsh.astype('float32')\n",
        "labels = movie_names_lsh\n",
        "\n",
        "quantizer = faiss.IndexFlatL2(dimention)\n",
        "index = faiss.IndexIVFPQ(quantizer, dimention, 8, 2, 8)\n",
        "index.train(vectors)\n",
        "index.add(vectors)\n",
        "        \n",
        "\n",
        "distances, indices = index.search(item_vectors_lsh[90:91], 10) \n",
        "simlar_movies_names = [labels[i] for i in indices[0]]\n",
        "simlar_movies_names = '\\n'.join(simlar_movies_names)\n",
        "print(f\"The most similar movies to {movie_names_lsh[90]} are:\\n* {simlar_movies_names}\")"
      ],
      "execution_count": 28,
      "outputs": [
        {
          "output_type": "stream",
          "name": "stdout",
          "text": [
            "The most similar movies to Nightmare Before Christmas, The (1993) are:\n",
            "* Nightmare Before Christmas, The (1993)\n",
            "William Shakespeare's Romeo and Juliet (1996)\n",
            "Heavy Metal (1981)\n",
            "Strange Days (1995)\n",
            "Abyss, The (1989)\n",
            "Bram Stoker's Dracula (1992)\n",
            "Monty Python's Life of Brian (1979)\n",
            "Rosencrantz and Guildenstern Are Dead (1990)\n",
            "Crying Game, The (1992)\n",
            "Until the End of the World (Bis ans Ende der Welt) (1991)\n"
          ]
        }
      ]
    },
    {
      "cell_type": "markdown",
      "metadata": {
        "id": "Kw4YtgvNt6dH"
      },
      "source": [
        "## Section 2: Exhaustive Search"
      ]
    },
    {
      "cell_type": "code",
      "metadata": {
        "id": "U2m6J9Lzt_U6"
      },
      "source": [
        "item_vectors_exhaustive = item_vectors.copy()\n",
        "movie_names_exhaustive = movie_names.copy()"
      ],
      "execution_count": 10,
      "outputs": []
    },
    {
      "cell_type": "code",
      "metadata": {
        "colab": {
          "base_uri": "https://localhost:8080/"
        },
        "id": "8_AY2dCEEV0H",
        "outputId": "9a4b9818-8c71-4f09-e765-a29271746974"
      },
      "source": [
        "vectors_ex = item_vectors_exhaustive.astype('float32')\n",
        "labels_ex = movie_names_exhaustive\n",
        "index_ex = faiss.IndexFlatL2(item_vectors_exhaustive.shape[1])\n",
        "index_ex.add(vectors_ex)\n",
        "\n",
        "distances, indices = index_ex.search(item_vectors_exhaustive[90:91], 10) \n",
        "simlar_movies_names = [labels_ex[i] for i in indices[0]]\n",
        "simlar_movies_names = '\\n* '.join(simlar_movies_names)\n",
        "print(f\"The most similar movies to {movie_name} are:\\n* {simlar_movies_names}\")"
      ],
      "execution_count": 30,
      "outputs": [
        {
          "output_type": "stream",
          "name": "stdout",
          "text": [
            "The most similar movies to Nightmare Before Christmas, The (1993) are:\n",
            "* Nightmare Before Christmas, The (1993)\n",
            "* Heavy Metal (1981)\n",
            "* William Shakespeare's Romeo and Juliet (1996)\n",
            "* Fantasia (1940)\n",
            "* Crow, The (1994)\n",
            "* Secret Garden, The (1993)\n",
            "* Winnie the Pooh and the Blustery Day (1968)\n",
            "* Akira (1988)\n",
            "* Ed Wood (1994)\n",
            "* Bram Stoker's Dracula (1992)\n"
          ]
        }
      ]
    },
    {
      "cell_type": "markdown",
      "metadata": {
        "id": "k8ZXx6GJHeNa"
      },
      "source": [
        "## Section 4: Product Quantization"
      ]
    },
    {
      "cell_type": "code",
      "metadata": {
        "id": "v6zbh-hrHn8-"
      },
      "source": [
        "item_vectors_pq = item_vectors.copy()\n",
        "movie_names_pq = movie_names.copy()"
      ],
      "execution_count": 13,
      "outputs": []
    },
    {
      "cell_type": "code",
      "metadata": {
        "colab": {
          "base_uri": "https://localhost:8080/"
        },
        "id": "qFwuHnmbH0eb",
        "outputId": "7577753d-e12c-479e-9d5f-424704a644f9"
      },
      "source": [
        "dimension_pq = item_vectors_pq.shape[1]\n",
        "vectors_pq = item_vectors_pq.astype('float32')\n",
        "labels_pq = movie_names_pq    \n",
        "        \n",
        "quantizer_pq = faiss.IndexFlatL2(dimension_pq)\n",
        "index_pq = faiss.IndexIVFPQ(quantizer_pq,dimension_pq,8,2,8)\n",
        "index_pq.train(vectors_pq)\n",
        "index_pq.add(vectors_pq)\n",
        "\n",
        "distances, indices = index_pq.search(item_vectors_pq[90:91], 10) \n",
        "simlar_movies_names = [labels_pq[i] for i in indices[0]]\n",
        "\n",
        "simlar_movies_names = '\\n* '.join(simlar_movies_names)\n",
        "print(f\"The most similar movies to {movie_names_pq[90:91]} are:\\n* {simlar_movies_names}\")"
      ],
      "execution_count": 32,
      "outputs": [
        {
          "output_type": "stream",
          "name": "stdout",
          "text": [
            "The most similar movies to ['Nightmare Before Christmas, The (1993)'] are:\n",
            "* Nightmare Before Christmas, The (1993)\n",
            "* William Shakespeare's Romeo and Juliet (1996)\n",
            "* Heavy Metal (1981)\n",
            "* Strange Days (1995)\n",
            "* Abyss, The (1989)\n",
            "* Bram Stoker's Dracula (1992)\n",
            "* Monty Python's Life of Brian (1979)\n",
            "* Rosencrantz and Guildenstern Are Dead (1990)\n",
            "* Crying Game, The (1992)\n",
            "* Until the End of the World (Bis ans Ende der Welt) (1991)\n"
          ]
        }
      ]
    },
    {
      "cell_type": "markdown",
      "metadata": {
        "id": "IDwjCuLxJI56"
      },
      "source": [
        "## Section 5: trees and graphs"
      ]
    },
    {
      "cell_type": "code",
      "metadata": {
        "colab": {
          "base_uri": "https://localhost:8080/"
        },
        "id": "msf_HyneKjwE",
        "outputId": "28d2e599-63c8-48a5-9c27-85f007a83a97"
      },
      "source": [
        "!pip install annoy\n",
        "import annoy"
      ],
      "execution_count": 16,
      "outputs": [
        {
          "output_type": "stream",
          "name": "stdout",
          "text": [
            "Collecting annoy\n",
            "  Downloading annoy-1.17.0.tar.gz (646 kB)\n",
            "\u001b[?25l\r\u001b[K     |▌                               | 10 kB 26.8 MB/s eta 0:00:01\r\u001b[K     |█                               | 20 kB 30.6 MB/s eta 0:00:01\r\u001b[K     |█▌                              | 30 kB 20.7 MB/s eta 0:00:01\r\u001b[K     |██                              | 40 kB 16.4 MB/s eta 0:00:01\r\u001b[K     |██▌                             | 51 kB 7.9 MB/s eta 0:00:01\r\u001b[K     |███                             | 61 kB 7.8 MB/s eta 0:00:01\r\u001b[K     |███▌                            | 71 kB 8.1 MB/s eta 0:00:01\r\u001b[K     |████                            | 81 kB 9.1 MB/s eta 0:00:01\r\u001b[K     |████▋                           | 92 kB 6.8 MB/s eta 0:00:01\r\u001b[K     |█████                           | 102 kB 7.4 MB/s eta 0:00:01\r\u001b[K     |█████▋                          | 112 kB 7.4 MB/s eta 0:00:01\r\u001b[K     |██████                          | 122 kB 7.4 MB/s eta 0:00:01\r\u001b[K     |██████▋                         | 133 kB 7.4 MB/s eta 0:00:01\r\u001b[K     |███████                         | 143 kB 7.4 MB/s eta 0:00:01\r\u001b[K     |███████▋                        | 153 kB 7.4 MB/s eta 0:00:01\r\u001b[K     |████████▏                       | 163 kB 7.4 MB/s eta 0:00:01\r\u001b[K     |████████▋                       | 174 kB 7.4 MB/s eta 0:00:01\r\u001b[K     |█████████▏                      | 184 kB 7.4 MB/s eta 0:00:01\r\u001b[K     |█████████▋                      | 194 kB 7.4 MB/s eta 0:00:01\r\u001b[K     |██████████▏                     | 204 kB 7.4 MB/s eta 0:00:01\r\u001b[K     |██████████▋                     | 215 kB 7.4 MB/s eta 0:00:01\r\u001b[K     |███████████▏                    | 225 kB 7.4 MB/s eta 0:00:01\r\u001b[K     |███████████▋                    | 235 kB 7.4 MB/s eta 0:00:01\r\u001b[K     |████████████▏                   | 245 kB 7.4 MB/s eta 0:00:01\r\u001b[K     |████████████▊                   | 256 kB 7.4 MB/s eta 0:00:01\r\u001b[K     |█████████████▏                  | 266 kB 7.4 MB/s eta 0:00:01\r\u001b[K     |█████████████▊                  | 276 kB 7.4 MB/s eta 0:00:01\r\u001b[K     |██████████████▏                 | 286 kB 7.4 MB/s eta 0:00:01\r\u001b[K     |██████████████▊                 | 296 kB 7.4 MB/s eta 0:00:01\r\u001b[K     |███████████████▏                | 307 kB 7.4 MB/s eta 0:00:01\r\u001b[K     |███████████████▊                | 317 kB 7.4 MB/s eta 0:00:01\r\u001b[K     |████████████████▎               | 327 kB 7.4 MB/s eta 0:00:01\r\u001b[K     |████████████████▊               | 337 kB 7.4 MB/s eta 0:00:01\r\u001b[K     |█████████████████▎              | 348 kB 7.4 MB/s eta 0:00:01\r\u001b[K     |█████████████████▊              | 358 kB 7.4 MB/s eta 0:00:01\r\u001b[K     |██████████████████▎             | 368 kB 7.4 MB/s eta 0:00:01\r\u001b[K     |██████████████████▊             | 378 kB 7.4 MB/s eta 0:00:01\r\u001b[K     |███████████████████▎            | 389 kB 7.4 MB/s eta 0:00:01\r\u001b[K     |███████████████████▊            | 399 kB 7.4 MB/s eta 0:00:01\r\u001b[K     |████████████████████▎           | 409 kB 7.4 MB/s eta 0:00:01\r\u001b[K     |████████████████████▉           | 419 kB 7.4 MB/s eta 0:00:01\r\u001b[K     |█████████████████████▎          | 430 kB 7.4 MB/s eta 0:00:01\r\u001b[K     |█████████████████████▉          | 440 kB 7.4 MB/s eta 0:00:01\r\u001b[K     |██████████████████████▎         | 450 kB 7.4 MB/s eta 0:00:01\r\u001b[K     |██████████████████████▉         | 460 kB 7.4 MB/s eta 0:00:01\r\u001b[K     |███████████████████████▎        | 471 kB 7.4 MB/s eta 0:00:01\r\u001b[K     |███████████████████████▉        | 481 kB 7.4 MB/s eta 0:00:01\r\u001b[K     |████████████████████████▍       | 491 kB 7.4 MB/s eta 0:00:01\r\u001b[K     |████████████████████████▉       | 501 kB 7.4 MB/s eta 0:00:01\r\u001b[K     |█████████████████████████▍      | 512 kB 7.4 MB/s eta 0:00:01\r\u001b[K     |█████████████████████████▉      | 522 kB 7.4 MB/s eta 0:00:01\r\u001b[K     |██████████████████████████▍     | 532 kB 7.4 MB/s eta 0:00:01\r\u001b[K     |██████████████████████████▉     | 542 kB 7.4 MB/s eta 0:00:01\r\u001b[K     |███████████████████████████▍    | 552 kB 7.4 MB/s eta 0:00:01\r\u001b[K     |███████████████████████████▉    | 563 kB 7.4 MB/s eta 0:00:01\r\u001b[K     |████████████████████████████▍   | 573 kB 7.4 MB/s eta 0:00:01\r\u001b[K     |█████████████████████████████   | 583 kB 7.4 MB/s eta 0:00:01\r\u001b[K     |█████████████████████████████▍  | 593 kB 7.4 MB/s eta 0:00:01\r\u001b[K     |██████████████████████████████  | 604 kB 7.4 MB/s eta 0:00:01\r\u001b[K     |██████████████████████████████▍ | 614 kB 7.4 MB/s eta 0:00:01\r\u001b[K     |███████████████████████████████ | 624 kB 7.4 MB/s eta 0:00:01\r\u001b[K     |███████████████████████████████▍| 634 kB 7.4 MB/s eta 0:00:01\r\u001b[K     |████████████████████████████████| 645 kB 7.4 MB/s eta 0:00:01\r\u001b[K     |████████████████████████████████| 646 kB 7.4 MB/s \n",
            "\u001b[?25hBuilding wheels for collected packages: annoy\n",
            "  Building wheel for annoy (setup.py) ... \u001b[?25l\u001b[?25hdone\n",
            "  Created wheel for annoy: filename=annoy-1.17.0-cp37-cp37m-linux_x86_64.whl size=391660 sha256=0c0fdd028552717bbe416b03930ec4d6c1ceea8320f209a56591e74aa7867963\n",
            "  Stored in directory: /root/.cache/pip/wheels/4f/e8/1e/7cc9ebbfa87a3b9f8ba79408d4d31831d67eea918b679a4c07\n",
            "Successfully built annoy\n",
            "Installing collected packages: annoy\n",
            "Successfully installed annoy-1.17.0\n"
          ]
        }
      ]
    },
    {
      "cell_type": "code",
      "metadata": {
        "id": "qtF-ZI_BJSCb"
      },
      "source": [
        "item_vectors_trees = item_vectors.copy()\n",
        "movie_names_trees = movie_names.copy()"
      ],
      "execution_count": 17,
      "outputs": []
    },
    {
      "cell_type": "markdown",
      "metadata": {
        "id": "y20Mm4YxJ2SE"
      },
      "source": [
        "__Annoy__"
      ]
    },
    {
      "cell_type": "code",
      "metadata": {
        "colab": {
          "base_uri": "https://localhost:8080/"
        },
        "id": "71ez9iXzJXIg",
        "outputId": "c04d5098-5f5a-4a3f-91ad-d663e9293f92"
      },
      "source": [
        "dimention_trees = item_vectors_trees.shape[1]\n",
        "vectors_trees = item_vectors_trees.astype('float32')\n",
        "labels_trees = movie_names_trees\n",
        "\n",
        "    \n",
        "index_trees = annoy.AnnoyIndex(dimention_trees)\n",
        "for i, vec in enumerate(vectors_trees):\n",
        "  index_trees.add_item(i, vec.tolist())\n",
        "index_trees.build(n_trees=5)\n",
        "\n",
        "indices = index_trees.get_nns_by_vector(item_vectors_trees[90].tolist(), 10)\n",
        "simlar_movies_names = [labels_trees[i] for i in indices]\n",
        "simlar_movies_names = '\\n* '.join(simlar_movies_names)\n",
        "        \n",
        "print(f\"The most similar movies to {movie_names_trees[90]} are:\\n* {simlar_movies_names}\")  "
      ],
      "execution_count": 36,
      "outputs": [
        {
          "output_type": "stream",
          "name": "stdout",
          "text": [
            "The most similar movies to Nightmare Before Christmas, The (1993) are:\n",
            "* Nightmare Before Christmas, The (1993)\n",
            "* Heavy Metal (1981)\n",
            "* Fantasia (1940)\n",
            "* Beauty and the Beast (1991)\n",
            "* Aladdin (1992)\n",
            "* Bram Stoker's Dracula (1992)\n",
            "* Interview with the Vampire (1994)\n",
            "* Sound of Music, The (1965)\n",
            "* Abyss, The (1989)\n",
            "* Snow White and the Seven Dwarfs (1937)\n"
          ]
        },
        {
          "output_type": "stream",
          "name": "stderr",
          "text": [
            "/usr/local/lib/python3.7/dist-packages/ipykernel_launcher.py:6: FutureWarning: The default argument for metric will be removed in future version of Annoy. Please pass metric='angular' explicitly.\n",
            "  \n"
          ]
        }
      ]
    },
    {
      "cell_type": "markdown",
      "metadata": {
        "id": "yUAk7bMCLBDQ"
      },
      "source": [
        "## Section 6: hnsw"
      ]
    },
    {
      "cell_type": "code",
      "metadata": {
        "colab": {
          "base_uri": "https://localhost:8080/"
        },
        "id": "7bp-hfb7MKMi",
        "outputId": "68038e17-c9d3-46a1-86e2-3a56ccbf9ca7"
      },
      "source": [
        "!pip install nmslib\n",
        "import nmslib"
      ],
      "execution_count": 21,
      "outputs": [
        {
          "output_type": "stream",
          "name": "stdout",
          "text": [
            "Collecting nmslib\n",
            "  Downloading nmslib-2.1.1-cp37-cp37m-manylinux2010_x86_64.whl (13.5 MB)\n",
            "\u001b[K     |████████████████████████████████| 13.5 MB 76 kB/s \n",
            "\u001b[?25hRequirement already satisfied: numpy>=1.10.0 in /usr/local/lib/python3.7/dist-packages (from nmslib) (1.19.5)\n",
            "Requirement already satisfied: psutil in /usr/local/lib/python3.7/dist-packages (from nmslib) (5.4.8)\n",
            "Collecting pybind11<2.6.2\n",
            "  Downloading pybind11-2.6.1-py2.py3-none-any.whl (188 kB)\n",
            "\u001b[K     |████████████████████████████████| 188 kB 62.4 MB/s \n",
            "\u001b[?25hInstalling collected packages: pybind11, nmslib\n",
            "Successfully installed nmslib-2.1.1 pybind11-2.6.1\n"
          ]
        }
      ]
    },
    {
      "cell_type": "code",
      "metadata": {
        "id": "Ycw0EeK1LHk6"
      },
      "source": [
        "item_vectors_hnsw = item_vectors.copy()\n",
        "movie_names_hnsw = movie_names.copy()"
      ],
      "execution_count": 22,
      "outputs": []
    },
    {
      "cell_type": "code",
      "metadata": {
        "colab": {
          "base_uri": "https://localhost:8080/"
        },
        "id": "3pNCPqZgLAmS",
        "outputId": "6a370323-985d-465a-9532-92fe8393de5f"
      },
      "source": [
        "dimention_hnsw = item_vectors_hnsw.shape[1]\n",
        "vectors_hnsw = item_vectors_hnsw.astype('float32')\n",
        "labels_hnsw = movie_names_hnsw\n",
        "            \n",
        "index_hnsw = nmslib.init(method='hnsw', space='cosinesimil')\n",
        "index_hnsw.addDataPointBatch(vectors_hnsw)\n",
        "index_hnsw.createIndex({'post': 2})\n",
        "        \n",
        "    \n",
        "indices = index_hnsw.knnQuery(item_vectors_hnsw[90], k=10)\n",
        "simlar_movies_names = [labels_hnsw[i] for i in indices[0]]\n",
        "simlar_movies_names = '\\n* '.join(simlar_movies_names)\n",
        "\n",
        "print(f\"The most similar movies to {movie_names_hnsw[90]} are:\\n* {simlar_movies_names}\")"
      ],
      "execution_count": 40,
      "outputs": [
        {
          "output_type": "stream",
          "name": "stdout",
          "text": [
            "The most similar movies to Nightmare Before Christmas, The (1993) are:\n",
            "* Nightmare Before Christmas, The (1993)\n",
            "* Heavy Metal (1981)\n",
            "* Fantasia (1940)\n",
            "* Beauty and the Beast (1991)\n",
            "* Aladdin (1992)\n",
            "* Jurassic Park (1993)\n",
            "* Bram Stoker's Dracula (1992)\n",
            "* Crow, The (1994)\n",
            "* Lion King, The (1994)\n",
            "* William Shakespeare's Romeo and Juliet (1996)\n"
          ]
        }
      ]
    }
  ]
}